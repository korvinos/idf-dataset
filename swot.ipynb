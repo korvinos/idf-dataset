{
 "cells": [
  {
   "cell_type": "code",
   "execution_count": 9,
   "metadata": {},
   "outputs": [],
   "source": [
    "import xarray as xr\n",
    "import rioxarray\n",
    "import numpy as np\n",
    "from pathlib import Path\n",
    "from datetime import datetime, timedelta\n",
    "from cftime import date2num\n",
    "from tqdm import tqdm\n",
    "from urllib.request import Request, urlopen, urlretrieve\n",
    "from bs4 import BeautifulSoup"
   ]
  },
  {
   "cell_type": "markdown",
   "metadata": {},
   "source": [
    "## Download SWOT tif files"
   ]
  },
  {
   "cell_type": "code",
   "execution_count": 89,
   "metadata": {},
   "outputs": [
    {
     "name": "stderr",
     "output_type": "stream",
     "text": [
      " 32%|███▏      | 94/293 [01:14<02:41,  1.23it/s]"
     ]
    }
   ],
   "source": [
    "# Download SWOT data\n",
    "def downlad_swot_data(\n",
    "        url:str,\n",
    "        dst:str,\n",
    "        download:bool) -> list:\n",
    "    \"\"\" \n",
    "    Download SWOT tif files from the http\n",
    "    \"\"\"\n",
    "    urls = []\n",
    "    url = url.replace(\" \",\"%20\")\n",
    "    req = Request(url)\n",
    "    a = urlopen(req).read()\n",
    "    soup = BeautifulSoup(a, 'html.parser')\n",
    "    x = (soup.find_all('a'))\n",
    "    for i in tqdm(x):\n",
    "        file_name = i.extract().get_text()\n",
    "        url_new = url + file_name\n",
    "        url_new = url_new.replace(\" \",\"%20\")\n",
    "        if url_new.endswith('tif'):\n",
    "            f_name = Path(url_new).name\n",
    "            urls.append(url_new)\n",
    "            if download:\n",
    "                urlretrieve(url_new, dst / f_name)\n",
    "    return urls\n",
    "\n",
    "src = \"https://data.aviso.altimetry.fr/aviso-gateway/data/swot-adac/norwegiansea-lofotenbasin/\"\n",
    "dst = Path('dev/swot_data/lofoten/')\n",
    "url_list = downlad_swot_data(src, dst, True)"
   ]
  },
  {
   "cell_type": "markdown",
   "metadata": {},
   "source": [
    "## Convert SWOT data to the IDF format"
   ]
  },
  {
   "cell_type": "code",
   "execution_count": 10,
   "metadata": {},
   "outputs": [],
   "source": [
    "IDF_TIME_UNITS = 'days since 1970-01-01 00:00:00.000000Z'\n",
    "\n",
    "IDF_BANDS = {\n",
    "    'lat_gcp': {\n",
    "        'dimensions': ('row_gcp', 'cell_gcp'),\n",
    "        'datatype': 'f4',\n",
    "        'metadata': {\n",
    "            'long_name': 'ground control points latitude',\n",
    "            'standard_name': 'latitude',\n",
    "            'units': 'degrees_north',\n",
    "            'axis': 'Y',\n",
    "            'comment': 'geographical coordinates, WGS84 projection'}},\n",
    "    'lon_gcp': {\n",
    "        'dimensions': ('row_gcp', 'cell_gcp'),\n",
    "        'datatype': 'f4',\n",
    "        'metadata': {\n",
    "            'long_name': 'ground control points longitude',\n",
    "            'standard_name': 'longitude',\n",
    "            'units': 'degrees_east',\n",
    "            'axis': 'X',\n",
    "            'comment': 'geographical coordinates, WGS84 projection'}},\n",
    "    'index_row_gcp': {\n",
    "        'dimensions': ('row_gcp'),\n",
    "        'datatype': np.int32,\n",
    "        'metadata': {\n",
    "            'long_name': 'index of ground control points in row dimension',\n",
    "            'comment': 'index goes from 0 (start of first pixel) to dimension value (end of last pixel)'}},\n",
    "    'index_cell_gcp': {\n",
    "        'dimensions': ('cell_gcp'),\n",
    "        'datatype': np.int32,\n",
    "        'metadata': {\n",
    "            'long_name': 'index of ground control points in cell dimension',\n",
    "            'comment': 'index goes from 0 (start of first pixel) to dimension value (end of last pixel)'}},\n",
    "}"
   ]
  },
  {
   "cell_type": "code",
   "execution_count": 15,
   "metadata": {},
   "outputs": [
    {
     "name": "stderr",
     "output_type": "stream",
     "text": [
      "100%|██████████| 113/113 [00:25<00:00,  4.47it/s]\n"
     ]
    }
   ],
   "source": [
    "\n",
    "def gen_gcp_ids(size, step):\n",
    "    # NOTE: last gcp id should be the last row or cell\n",
    "    gcp_ids = list(np.arange(0, size, step)) + [size - 1]\n",
    "    return gcp_ids\n",
    "\n",
    "# Define the path with swot .tif files\n",
    "src_root = Path('dev/swot_data/lofoten/')\n",
    "dst_root = src_root / 'idf'\n",
    "dst_root.mkdir(exist_ok=True)\n",
    "\n",
    "for uri in tqdm(list(src_root.glob('*sig0.tif'))):\n",
    "    s0_uri = Path(uri)\n",
    "    ssh_uri = s0_uri.parent / s0_uri.name.replace('sig0', 'ssh')\n",
    "    \n",
    "    if not ssh_uri.exists() or not s0_uri.exists():\n",
    "        continue\n",
    "\n",
    "    swot_s0 = rioxarray.open_rasterio(s0_uri)\n",
    "    swot_ssh = rioxarray.open_rasterio(ssh_uri)\n",
    "\n",
    "    \n",
    "    lon_grd, lat_grd  = np.meshgrid(swot_s0.x.data, swot_s0.y.data)\n",
    "\n",
    "    s0_data = swot_s0[0,:,:].data\n",
    "    s0_data[swot_s0[3,:,:].data == 0] = 25\n",
    "\n",
    "\n",
    "    ssh_data = swot_ssh[0,:,:].data\n",
    "    ssh_data[swot_ssh[3,:,:].data == 0] = 25\n",
    "\n",
    "    out_ds = xr.Dataset(\n",
    "        data_vars=dict(\n",
    "            sigma0=(['time', 'row', 'cell'], [s0_data], {'_FillValue': 25}),\n",
    "            ssh=(['time', 'row', 'cell'], [ssh_data], {'_FillValue': 25})),\n",
    "        coords=dict(\n",
    "            lat=(['row', 'cell'], lat_grd),\n",
    "            lon=(['row', 'cell'], lon_grd)))\n",
    "\n",
    "    if s0_uri.stem.split('_')[-2] == 'p005':\n",
    "        time_start = datetime.strptime(s0_uri.stem.split('_')[1], '%Y%m%d') + timedelta(hours=1)\n",
    "        idf_filename = '_'.join([s0_uri.stem, f'{s0_uri.stem.split(\"_\")[1]}01Z_idf_00.nc'])\n",
    "    elif s0_uri.stem.split('_')[-2] == 'p014':\n",
    "        time_start = datetime.strptime(s0_uri.stem.split('_')[1], '%Y%m%d') + timedelta(hours=6)\n",
    "        idf_filename = '_'.join([s0_uri.stem, f'{s0_uri.stem.split(\"_\")[1]}06Z_idf_00.nc'])\n",
    "    else:\n",
    "        raise ValueError\n",
    "\n",
    "    time_end = time_start  + timedelta(hours=1)\n",
    "\n",
    "    out_ds['time'] = xr.DataArray(\n",
    "            [date2num(time_start, IDF_TIME_UNITS)], dims=['time'], \n",
    "            attrs=dict(units=IDF_TIME_UNITS, long_name='time', standard_name='time', calendar='gregorian'))\n",
    "\n",
    "    out_ds = out_ds.assign_attrs({\n",
    "            'idf_version': 1.0,\n",
    "            'idf_subsampling_factor': 0,\n",
    "            'idf_spatial_resolution': 1000,\n",
    "            'idf_spatial_resolution_units': 'm', \n",
    "            'idf_granule_id': idf_filename.replace('.nc', ''),\n",
    "            'time_coverage_start': f'{time_start:%Y-%m-%dT%H:%M:%S}.000000Z',\n",
    "            'time_coverage_end': f'{time_end:%Y-%m-%dT%H:%M:%S}.000000Z'\n",
    "        })\n",
    "\n",
    "        # Add idf GCP variables\n",
    "    gcp_ids_row = gen_gcp_ids(out_ds.row.size, 10)\n",
    "    gcp_ids_cell = gen_gcp_ids(out_ds.cell.size, 10)\n",
    "    out_ds = out_ds.assign(\n",
    "            lat_gcp=(['row_gcp', 'cell_gcp'], out_ds['lat'].data[gcp_ids_row, :][:, gcp_ids_cell], IDF_BANDS['lat_gcp']['metadata']),\n",
    "            lon_gcp=(['row_gcp', 'cell_gcp'], out_ds['lon'].data[gcp_ids_row, :][:, gcp_ids_cell], IDF_BANDS['lon_gcp']['metadata']),\n",
    "            index_row_gcp=(['row_gcp'], gcp_ids_row, IDF_BANDS['index_row_gcp']['metadata']),\n",
    "            index_cell_gcp=(['cell_gcp'], gcp_ids_cell, IDF_BANDS['index_cell_gcp']['metadata']))\n",
    "\n",
    "    out_ds = out_ds.drop_vars(['lat', 'lon'])\n",
    "\n",
    "    out_ds.to_netcdf(dst_root / idf_filename)\n"
   ]
  }
 ],
 "metadata": {
  "kernelspec": {
   "display_name": "dev",
   "language": "python",
   "name": "python3"
  },
  "language_info": {
   "codemirror_mode": {
    "name": "ipython",
    "version": 3
   },
   "file_extension": ".py",
   "mimetype": "text/x-python",
   "name": "python",
   "nbconvert_exporter": "python",
   "pygments_lexer": "ipython3",
   "version": "3.11.4"
  },
  "orig_nbformat": 4
 },
 "nbformat": 4,
 "nbformat_minor": 2
}
